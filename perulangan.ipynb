{
 "cells": [
  {
   "cell_type": "code",
   "execution_count": 2,
   "id": "a1baf242",
   "metadata": {},
   "outputs": [
    {
     "name": "stdout",
     "output_type": "stream",
     "text": [
      "1 2 3 4 5 6 7 8 9 10 "
     ]
    }
   ],
   "source": [
    "# mencetak angka 1-10\n",
    "\n",
    "for i in range(1,11):\n",
    "    print (i, end=\" \")"
   ]
  },
  {
   "cell_type": "code",
   "execution_count": 3,
   "id": "25e5de21",
   "metadata": {},
   "outputs": [
    {
     "name": "stdout",
     "output_type": "stream",
     "text": [
      "10 20 30 40 50 60 70 80 90 100 "
     ]
    }
   ],
   "source": [
    "#mencetak 10 20 30 ---100\n",
    "for i in range(1,11):\n",
    "    print (i * 10, end=\" \")"
   ]
  },
  {
   "cell_type": "code",
   "execution_count": 4,
   "id": "63e26e55",
   "metadata": {},
   "outputs": [
    {
     "name": "stdout",
     "output_type": "stream",
     "text": [
      "10 20 30 40 50 60 70 80 90 100 "
     ]
    }
   ],
   "source": [
    "#mencetak angka 10 20 30 --100\n",
    "for i in range(10,101,10):\n",
    "    print (i, end=\" \")"
   ]
  },
  {
   "cell_type": "code",
   "execution_count": 6,
   "id": "e9144c01",
   "metadata": {},
   "outputs": [
    {
     "name": "stdout",
     "output_type": "stream",
     "text": [
      "i= 10\n",
      "i= 11\n",
      "i= 12\n",
      "i= 13\n",
      "i= 14\n",
      "i= 15\n"
     ]
    }
   ],
   "source": [
    "for i in range(10,16):\n",
    "    print ('i=', i)"
   ]
  },
  {
   "cell_type": "code",
   "execution_count": 8,
   "id": "929741ad",
   "metadata": {},
   "outputs": [
    {
     "name": "stdout",
     "output_type": "stream",
     "text": [
      "10 9 8 7 6 5 4 3 2 1 "
     ]
    }
   ],
   "source": [
    "#mencetak angka 10 9 8 7 ---1\n",
    "for i in range(1,11):\n",
    "    print (11 - i, end=\" \" )"
   ]
  },
  {
   "cell_type": "code",
   "execution_count": 10,
   "id": "837be4fd",
   "metadata": {},
   "outputs": [
    {
     "name": "stdout",
     "output_type": "stream",
     "text": [
      "10 9 8 7 6 5 4 3 2 1 "
     ]
    }
   ],
   "source": [
    "for i in range (10,0,-1):\n",
    "    print (i, end=\" \")\n",
    "    "
   ]
  },
  {
   "cell_type": "code",
   "execution_count": 31,
   "id": "d74755e7",
   "metadata": {},
   "outputs": [
    {
     "name": "stdout",
     "output_type": "stream",
     "text": [
      "-1 2 -3 4 -5 6 -7 8 -9 10 "
     ]
    }
   ],
   "source": [
    "#mencetak angka 1 -2 3 -4 5 -6--10\n",
    "sign = 1\n",
    "for i in range(1,11):\n",
    "    sign = sign* -1\n",
    "    print(sign * i, end =\" \")"
   ]
  },
  {
   "cell_type": "code",
   "execution_count": 6,
   "id": "24c1df10",
   "metadata": {},
   "outputs": [
    {
     "name": "stdout",
     "output_type": "stream",
     "text": [
      "Masukan Bilangan:5\n",
      "5! adalah 120\n",
      "5 * 4 * 3 * 2 * 1 = 120\n"
     ]
    }
   ],
   "source": [
    "#mencari bilngan faktorial\n",
    "#input = 3, output = 3 * 2 * 1 = 6\n",
    "#input = 4\n",
    "\n",
    "bil = int(input('Masukan Bilangan:'))\n",
    "hasil = 1\n",
    "number = \"\"\n",
    "for i in range(1,bil+1):\n",
    "    hasil = hasil * i\n",
    "    if i < bil:\n",
    "        number = number + str((bil+1) - i) + \" * \"\n",
    "    else:\n",
    "        number = number + str((bil+1) - i)\n",
    "\n",
    "print(f\"{bil}! adalah {hasil}\")\n",
    "print(f\"{number} = {hasil}\")\n"
   ]
  },
  {
   "cell_type": "code",
   "execution_count": 7,
   "id": "38737100",
   "metadata": {},
   "outputs": [
    {
     "name": "stdout",
     "output_type": "stream",
     "text": [
      "Masukan Bilangan: 3\n",
      "Masukan pangkat 3\n",
      "3 pangkat 3 adalah 27\n"
     ]
    }
   ],
   "source": [
    "#mencari bilngan pangkat \n",
    "\n",
    "bil = int(input('Masukan Bilangan: '))\n",
    "pangkat = int(input('Masukan pangkat '))\n",
    "label = \"\"\n",
    "hasil = 1\n",
    "for i in range(1,pangkat+1):\n",
    "    hasil *= bil\n",
    "\n",
    "print(f\"{bil} pangkat {pangkat} adalah {hasil}\")"
   ]
  },
  {
   "cell_type": "code",
   "execution_count": 1,
   "id": "2bf917aa",
   "metadata": {},
   "outputs": [
    {
     "name": "stdout",
     "output_type": "stream",
     "text": [
      "Masukan bilangan: 4\n",
      "sisa = 3, adalah Bilangan bukan Prima\n"
     ]
    }
   ],
   "source": [
    "#mengecek bilangan prima atau bukan\n",
    "\n",
    "bil = int(input('Masukan bilangan: '))\n",
    "jumlah = 0\n",
    "for i in range(1,bil+1):\n",
    "    sisa =bil % i\n",
    "    if sisa == 0:\n",
    "        jumlah = jumlah + 1\n",
    "if jumlah == 2:\n",
    "    kondisi = \"Bilangan Prima\"\n",
    "else:\n",
    "    kondisi = \"Bilangan bukan Prima\"\n",
    "    \n",
    "print (f\"sisa = {jumlah}, adalah {kondisi}\")"
   ]
  },
  {
   "cell_type": "code",
   "execution_count": 2,
   "id": "38ae166d",
   "metadata": {},
   "outputs": [
    {
     "name": "stdout",
     "output_type": "stream",
     "text": [
      "Masukan bilangan: 3\n",
      "sisa = 2, adalah Bilangan Prima\n"
     ]
    }
   ],
   "source": [
    "#mengecek bilangan prima atau bukan\n",
    "\n",
    "bil = int(input('Masukan bilangan: '))\n",
    "jumlah = 0\n",
    "for i in range(1,bil+1):\n",
    "    sisa =bil % i\n",
    "    if sisa == 0:\n",
    "        jumlah = jumlah + 1\n",
    "if jumlah == 2:\n",
    "    kondisi = \"Bilangan Prima\"\n",
    "else:\n",
    "    kondisi = \"Bilangan bukan Prima\"\n",
    "    \n",
    "print (f\"sisa = {jumlah}, adalah {kondisi}\")"
   ]
  },
  {
   "cell_type": "code",
   "execution_count": 5,
   "id": "1a300d1f",
   "metadata": {},
   "outputs": [
    {
     "name": "stdout",
     "output_type": "stream",
     "text": [
      "1 2 3 4 5 \n",
      "1 2 3 4 6 7 8 9 "
     ]
    }
   ],
   "source": [
    "#Break\n",
    "\n",
    "for i in range(1,100):\n",
    "    print (i, end=\" \")\n",
    "    if i ==5:\n",
    "        break\n",
    "print()\n",
    "\n",
    "for j in range(1,10):\n",
    "    if j ==5:\n",
    "        continue\n",
    "    print(j, end=\" \")"
   ]
  },
  {
   "cell_type": "code",
   "execution_count": 3,
   "id": "a9bf26b7",
   "metadata": {},
   "outputs": [
    {
     "name": "stdout",
     "output_type": "stream",
     "text": [
      "Masukan kalimat: SELAMAT DATANG\n",
      "jumlah huruf a :0\n",
      "jumlah huruf i :0\n",
      "jumlah huruf u :0\n",
      "jumlah huruf e :0\n",
      "jumlah huruf o :0\n",
      "Total Keseluruhan Huruf Vokal : 0\n"
     ]
    }
   ],
   "source": [
    "#looping String, Menghitung huruf vokal\n",
    "kalimat = input(\"Masukan kalimat: \")\n",
    "vokal_a = 0\n",
    "vokal_i = 0\n",
    "vokal_u = 0\n",
    "vokal_e = 0\n",
    "vokal_o = 0\n",
    "\n",
    "for i in kalimat:\n",
    "    if i =='a':\n",
    "        vokal_a += 1\n",
    "    elif i == 'i':\n",
    "        vokal_i += 1\n",
    "    elif i == 'u':\n",
    "        vokal_u += 1\n",
    "    elif i == 'e':\n",
    "        vokal_e += 1\n",
    "    elif i == 'o':\n",
    "        vokal_o += 1\n",
    "        \n",
    "        \n",
    "print(f\"jumlah huruf a :{vokal_a}\")\n",
    "print(f\"jumlah huruf i :{vokal_i}\")\n",
    "print(f\"jumlah huruf u :{vokal_u}\")\n",
    "print(f\"jumlah huruf e :{vokal_e}\")\n",
    "print(f\"jumlah huruf o :{vokal_o}\")\n",
    "\n",
    "total = vokal_a + vokal_i + vokal_u + vokal_e + vokal_o\n",
    "print(f\"Total Keseluruhan Huruf Vokal : {total}\")\n"
   ]
  },
  {
   "cell_type": "code",
   "execution_count": 1,
   "id": "73d1e277",
   "metadata": {},
   "outputs": [
    {
     "name": "stdout",
     "output_type": "stream",
     "text": [
      "Masukan Kalimat: LAPARRRR\n",
      "BUKAN PALINDROME\n",
      "Apakah ingin mengulang program ? (Y/T): Y\n",
      "Masukan Kalimat: LAPARR\n",
      "BUKAN PALINDROME\n",
      "Apakah ingin mengulang program ? (Y/T): T\n"
     ]
    }
   ],
   "source": [
    "#Kalimat palindrome \n",
    "#palindrome adalah kalimat yg dibaca dari kiri ke kanan == kanan ke kiri\n",
    "\n",
    "ulang = \"Y\"\n",
    "while(ulang == \"Y\"):\n",
    "    kalimat = input(\"Masukan Kalimat: \")\n",
    "    panjang_kalimat= len(kalimat)\n",
    "    keterangan = \"PALINDROME\"\n",
    "    for i in range(0,panjang_kalimat):\n",
    "        kika = kalimat[i].lower()\n",
    "        kaki = kalimat[panjang_kalimat- i-1].lower()\n",
    "        if kika!= kaki:\n",
    "            keterangan = \"BUKAN PALINDROME\"\n",
    "            break\n",
    "    print(f\"{keterangan}\")\n",
    "    jawab = \"\"\n",
    "    while(jawab!=\"Y\" and jawab !=\"T\"):\n",
    "        jawab = input(\"Apakah ingin mengulang program ? (Y/T): \")\n",
    "    ulang = jawab"
   ]
  },
  {
   "cell_type": "code",
   "execution_count": null,
   "id": "e7b1db70",
   "metadata": {},
   "outputs": [],
   "source": []
  },
  {
   "cell_type": "code",
   "execution_count": null,
   "id": "357fb836",
   "metadata": {},
   "outputs": [],
   "source": []
  }
 ],
 "metadata": {
  "kernelspec": {
   "display_name": "Python 3 (ipykernel)",
   "language": "python",
   "name": "python3"
  },
  "language_info": {
   "codemirror_mode": {
    "name": "ipython",
    "version": 3
   },
   "file_extension": ".py",
   "mimetype": "text/x-python",
   "name": "python",
   "nbconvert_exporter": "python",
   "pygments_lexer": "ipython3",
   "version": "3.9.12"
  }
 },
 "nbformat": 4,
 "nbformat_minor": 5
}
